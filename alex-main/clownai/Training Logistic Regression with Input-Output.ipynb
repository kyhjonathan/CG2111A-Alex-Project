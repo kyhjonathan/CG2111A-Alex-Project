{
  "cells": [
    {
      "cell_type": "code",
      "execution_count": 8,
      "id": "aea79f15",
      "metadata": {
        "ExecuteTime": {
          "end_time": "2023-04-12T00:47:30.576082Z",
          "start_time": "2023-04-12T00:47:30.489951Z"
        },
        "id": "aea79f15"
      },
      "outputs": [],
      "source": [
        "import numpy as np\n",
        "from sklearn.linear_model import LogisticRegression\n",
        "from sklearn.model_selection import train_test_split"
      ]
    },
    {
      "cell_type": "code",
      "source": [
        "# Input Code\n",
        "\n",
        "ui = input()\n",
        "res = []\n",
        "colors = []\n",
        "while ui != \"q\":\n",
        "    splitted = ui.split()\n",
        "    res.append([int(splitted[0]), int(splitted[1]), int(splitted[2])])\n",
        "    colors.append(splitted[3])\n",
        "    ui = input()\n",
        "\n",
        "X = np.array(res)\n",
        "y = np.array([1 if color == \"red\" else 2 if color == \"green\" else 0 for color in colors])"
      ],
      "metadata": {
        "id": "fAy8PeQrK9KT",
        "outputId": "31c9bfe0-9c90-417c-9acd-1cf9f2a2f0e2",
        "colab": {
          "base_uri": "https://localhost:8080/"
        }
      },
      "id": "fAy8PeQrK9KT",
      "execution_count": 9,
      "outputs": [
        {
          "name": "stdout",
          "output_type": "stream",
          "text": [
            "115 37 59 white 115 35 61 white 123 244 32 red 131313 13131 3131 green\n",
            "115 35 61 white 123 244 32 red 131313 13131 3131 green\n",
            "123 244 32 red 131313 13131 3131 green\n",
            "131313 13131 3131 green\n",
            "q\n"
          ]
        }
      ]
    },
    {
      "cell_type": "code",
      "source": [
        "X_boot = np.vstack([X for i in range(100)])\n",
        "y_boot = np.hstack([y for i in range(100)])"
      ],
      "metadata": {
        "id": "jgNUaU_wV-2e"
      },
      "id": "jgNUaU_wV-2e",
      "execution_count": 14,
      "outputs": []
    },
    {
      "cell_type": "code",
      "execution_count": 16,
      "id": "c8c91fab",
      "metadata": {
        "ExecuteTime": {
          "end_time": "2023-04-11T08:09:55.859800Z",
          "start_time": "2023-04-11T08:09:55.845264Z"
        },
        "id": "c8c91fab"
      },
      "outputs": [],
      "source": [
        "X_train, X_test, y_train, y_test = train_test_split(X_boot, y_boot, test_size=0.2, random_state=42, shuffle=True)"
      ]
    },
    {
      "cell_type": "code",
      "execution_count": 17,
      "id": "05677a18",
      "metadata": {
        "ExecuteTime": {
          "end_time": "2023-04-11T08:15:31.391539Z",
          "start_time": "2023-04-11T08:15:31.176780Z"
        },
        "id": "05677a18",
        "outputId": "90520b53-f0f9-4835-95a9-6614a0d8b369",
        "colab": {
          "base_uri": "https://localhost:8080/",
          "height": 74
        }
      },
      "outputs": [
        {
          "output_type": "execute_result",
          "data": {
            "text/plain": [
              "LogisticRegression(multi_class='ovr')"
            ],
            "text/html": [
              "<style>#sk-container-id-1 {color: black;background-color: white;}#sk-container-id-1 pre{padding: 0;}#sk-container-id-1 div.sk-toggleable {background-color: white;}#sk-container-id-1 label.sk-toggleable__label {cursor: pointer;display: block;width: 100%;margin-bottom: 0;padding: 0.3em;box-sizing: border-box;text-align: center;}#sk-container-id-1 label.sk-toggleable__label-arrow:before {content: \"▸\";float: left;margin-right: 0.25em;color: #696969;}#sk-container-id-1 label.sk-toggleable__label-arrow:hover:before {color: black;}#sk-container-id-1 div.sk-estimator:hover label.sk-toggleable__label-arrow:before {color: black;}#sk-container-id-1 div.sk-toggleable__content {max-height: 0;max-width: 0;overflow: hidden;text-align: left;background-color: #f0f8ff;}#sk-container-id-1 div.sk-toggleable__content pre {margin: 0.2em;color: black;border-radius: 0.25em;background-color: #f0f8ff;}#sk-container-id-1 input.sk-toggleable__control:checked~div.sk-toggleable__content {max-height: 200px;max-width: 100%;overflow: auto;}#sk-container-id-1 input.sk-toggleable__control:checked~label.sk-toggleable__label-arrow:before {content: \"▾\";}#sk-container-id-1 div.sk-estimator input.sk-toggleable__control:checked~label.sk-toggleable__label {background-color: #d4ebff;}#sk-container-id-1 div.sk-label input.sk-toggleable__control:checked~label.sk-toggleable__label {background-color: #d4ebff;}#sk-container-id-1 input.sk-hidden--visually {border: 0;clip: rect(1px 1px 1px 1px);clip: rect(1px, 1px, 1px, 1px);height: 1px;margin: -1px;overflow: hidden;padding: 0;position: absolute;width: 1px;}#sk-container-id-1 div.sk-estimator {font-family: monospace;background-color: #f0f8ff;border: 1px dotted black;border-radius: 0.25em;box-sizing: border-box;margin-bottom: 0.5em;}#sk-container-id-1 div.sk-estimator:hover {background-color: #d4ebff;}#sk-container-id-1 div.sk-parallel-item::after {content: \"\";width: 100%;border-bottom: 1px solid gray;flex-grow: 1;}#sk-container-id-1 div.sk-label:hover label.sk-toggleable__label {background-color: #d4ebff;}#sk-container-id-1 div.sk-serial::before {content: \"\";position: absolute;border-left: 1px solid gray;box-sizing: border-box;top: 0;bottom: 0;left: 50%;z-index: 0;}#sk-container-id-1 div.sk-serial {display: flex;flex-direction: column;align-items: center;background-color: white;padding-right: 0.2em;padding-left: 0.2em;position: relative;}#sk-container-id-1 div.sk-item {position: relative;z-index: 1;}#sk-container-id-1 div.sk-parallel {display: flex;align-items: stretch;justify-content: center;background-color: white;position: relative;}#sk-container-id-1 div.sk-item::before, #sk-container-id-1 div.sk-parallel-item::before {content: \"\";position: absolute;border-left: 1px solid gray;box-sizing: border-box;top: 0;bottom: 0;left: 50%;z-index: -1;}#sk-container-id-1 div.sk-parallel-item {display: flex;flex-direction: column;z-index: 1;position: relative;background-color: white;}#sk-container-id-1 div.sk-parallel-item:first-child::after {align-self: flex-end;width: 50%;}#sk-container-id-1 div.sk-parallel-item:last-child::after {align-self: flex-start;width: 50%;}#sk-container-id-1 div.sk-parallel-item:only-child::after {width: 0;}#sk-container-id-1 div.sk-dashed-wrapped {border: 1px dashed gray;margin: 0 0.4em 0.5em 0.4em;box-sizing: border-box;padding-bottom: 0.4em;background-color: white;}#sk-container-id-1 div.sk-label label {font-family: monospace;font-weight: bold;display: inline-block;line-height: 1.2em;}#sk-container-id-1 div.sk-label-container {text-align: center;}#sk-container-id-1 div.sk-container {/* jupyter's `normalize.less` sets `[hidden] { display: none; }` but bootstrap.min.css set `[hidden] { display: none !important; }` so we also need the `!important` here to be able to override the default hidden behavior on the sphinx rendered scikit-learn.org. See: https://github.com/scikit-learn/scikit-learn/issues/21755 */display: inline-block !important;position: relative;}#sk-container-id-1 div.sk-text-repr-fallback {display: none;}</style><div id=\"sk-container-id-1\" class=\"sk-top-container\"><div class=\"sk-text-repr-fallback\"><pre>LogisticRegression(multi_class=&#x27;ovr&#x27;)</pre><b>In a Jupyter environment, please rerun this cell to show the HTML representation or trust the notebook. <br />On GitHub, the HTML representation is unable to render, please try loading this page with nbviewer.org.</b></div><div class=\"sk-container\" hidden><div class=\"sk-item\"><div class=\"sk-estimator sk-toggleable\"><input class=\"sk-toggleable__control sk-hidden--visually\" id=\"sk-estimator-id-1\" type=\"checkbox\" checked><label for=\"sk-estimator-id-1\" class=\"sk-toggleable__label sk-toggleable__label-arrow\">LogisticRegression</label><div class=\"sk-toggleable__content\"><pre>LogisticRegression(multi_class=&#x27;ovr&#x27;)</pre></div></div></div></div></div>"
            ]
          },
          "metadata": {},
          "execution_count": 17
        }
      ],
      "source": [
        "lr = LogisticRegression(multi_class=\"ovr\")\n",
        "lr.fit(X_train, y_train)"
      ]
    },
    {
      "cell_type": "code",
      "execution_count": 18,
      "id": "1b86371f",
      "metadata": {
        "ExecuteTime": {
          "end_time": "2023-04-11T08:15:37.010142Z",
          "start_time": "2023-04-11T08:15:36.987152Z"
        },
        "id": "1b86371f",
        "outputId": "1d48be19-b417-4288-cacb-cb914a6b34d4",
        "colab": {
          "base_uri": "https://localhost:8080/"
        }
      },
      "outputs": [
        {
          "output_type": "execute_result",
          "data": {
            "text/plain": [
              "1.0"
            ]
          },
          "metadata": {},
          "execution_count": 18
        }
      ],
      "source": [
        "(lr.predict(X_test) == y_test).mean()"
      ]
    },
    {
      "cell_type": "code",
      "execution_count": 19,
      "id": "146887cd",
      "metadata": {
        "ExecuteTime": {
          "end_time": "2023-04-11T08:16:06.633496Z",
          "start_time": "2023-04-11T08:16:06.617437Z"
        },
        "id": "146887cd",
        "outputId": "655f9029-cb0c-428c-a5d8-6f50d7bd306c",
        "colab": {
          "base_uri": "https://localhost:8080/"
        }
      },
      "outputs": [
        {
          "output_type": "execute_result",
          "data": {
            "text/plain": [
              "array([[-0.00444426, -0.11504211,  0.01541597],\n",
              "       [-0.01120306,  0.1154037 , -0.01603973],\n",
              "       [ 0.01075361, -0.0676671 , -0.16166322]])"
            ]
          },
          "metadata": {},
          "execution_count": 19
        }
      ],
      "source": [
        "lr.coef_"
      ]
    },
    {
      "cell_type": "code",
      "execution_count": 20,
      "id": "5964a757",
      "metadata": {
        "ExecuteTime": {
          "end_time": "2023-04-11T08:16:07.772188Z",
          "start_time": "2023-04-11T08:16:07.755227Z"
        },
        "id": "5964a757",
        "outputId": "7a2c6c17-fa07-4d4a-a117-25112a30c814",
        "colab": {
          "base_uri": "https://localhost:8080/"
        }
      },
      "outputs": [
        {
          "output_type": "execute_result",
          "data": {
            "text/plain": [
              "array([ 1.62681843e+01, -1.44280299e+01, -6.03167432e-03])"
            ]
          },
          "metadata": {},
          "execution_count": 20
        }
      ],
      "source": [
        "lr.intercept_"
      ]
    },
    {
      "cell_type": "code",
      "execution_count": null,
      "id": "72f49cdf",
      "metadata": {
        "ExecuteTime": {
          "end_time": "2023-04-11T08:24:56.506905Z",
          "start_time": "2023-04-11T08:24:56.489925Z"
        },
        "id": "72f49cdf"
      },
      "outputs": [],
      "source": [
        "def predict(r, b, g):\n",
        "    idx = -1;\n",
        "    champion = -1;\n",
        "    for i in range(3):\n",
        "        p = 1/(1 + np.exp(-((lr.coef_[i] * [r, b, g]).sum() + lr.intercept_[i])))\n",
        "        if (champion <= p):\n",
        "            idx = i;\n",
        "            champion = p;\n",
        "    return idx;"
      ]
    },
    {
      "cell_type": "code",
      "execution_count": null,
      "id": "4ea5b6fa",
      "metadata": {
        "ExecuteTime": {
          "end_time": "2023-04-11T08:25:25.761195Z",
          "start_time": "2023-04-11T08:25:25.745186Z"
        },
        "id": "4ea5b6fa",
        "outputId": "d5ec245a-f4b7-443f-f794-1e81b1c8cad2"
      },
      "outputs": [
        {
          "data": {
            "text/plain": [
              "0"
            ]
          },
          "execution_count": 53,
          "metadata": {},
          "output_type": "execute_result"
        }
      ],
      "source": [
        "predict(9, 115, 112)"
      ]
    },
    {
      "cell_type": "code",
      "execution_count": null,
      "id": "b40b79aa",
      "metadata": {
        "ExecuteTime": {
          "end_time": "2023-04-11T08:25:33.048352Z",
          "start_time": "2023-04-11T08:25:33.030280Z"
        },
        "id": "b40b79aa",
        "outputId": "a27a6b8c-3f97-4eb1-e92d-a79000b85f1a"
      },
      "outputs": [
        {
          "data": {
            "text/plain": [
              "0"
            ]
          },
          "execution_count": 54,
          "metadata": {},
          "output_type": "execute_result"
        }
      ],
      "source": [
        "predict(161, 273, 321)"
      ]
    },
    {
      "cell_type": "code",
      "execution_count": null,
      "id": "1a69ba67",
      "metadata": {
        "ExecuteTime": {
          "end_time": "2023-04-11T08:15:48.379507Z",
          "start_time": "2023-04-11T08:15:48.357863Z"
        },
        "id": "1a69ba67",
        "outputId": "02bb5ff9-82c9-4909-9a80-f4a961d7a39b"
      },
      "outputs": [
        {
          "data": {
            "text/plain": [
              "array([0])"
            ]
          },
          "execution_count": 29,
          "metadata": {},
          "output_type": "execute_result"
        }
      ],
      "source": [
        "lr.predict([[56, 217, 256]])"
      ]
    },
    {
      "cell_type": "code",
      "execution_count": null,
      "id": "08909c60",
      "metadata": {
        "ExecuteTime": {
          "end_time": "2023-04-11T08:25:42.466418Z",
          "start_time": "2023-04-11T08:25:42.449731Z"
        },
        "id": "08909c60",
        "outputId": "5cf6cc21-5ce4-4a48-e92d-772dd93da8ce"
      },
      "outputs": [
        {
          "data": {
            "text/plain": [
              "0"
            ]
          },
          "execution_count": 55,
          "metadata": {},
          "output_type": "execute_result"
        }
      ],
      "source": [
        "predict(78, 295, 332)"
      ]
    },
    {
      "cell_type": "code",
      "execution_count": null,
      "id": "9947ffc7",
      "metadata": {
        "ExecuteTime": {
          "end_time": "2023-04-11T08:25:50.064293Z",
          "start_time": "2023-04-11T08:25:50.032060Z"
        },
        "id": "9947ffc7",
        "outputId": "883f28c9-f1b0-4d5a-fde1-9e7d7803a2a0"
      },
      "outputs": [
        {
          "data": {
            "text/plain": [
              "2"
            ]
          },
          "execution_count": 56,
          "metadata": {},
          "output_type": "execute_result"
        }
      ],
      "source": [
        "predict(270, 294, 324)"
      ]
    },
    {
      "cell_type": "code",
      "execution_count": null,
      "id": "62e0fd76",
      "metadata": {
        "ExecuteTime": {
          "end_time": "2023-04-11T08:25:57.990691Z",
          "start_time": "2023-04-11T08:25:57.976198Z"
        },
        "id": "62e0fd76",
        "outputId": "0b05c502-218f-4523-b8ef-49f2f9fe82b2"
      },
      "outputs": [
        {
          "data": {
            "text/plain": [
              "2"
            ]
          },
          "execution_count": 57,
          "metadata": {},
          "output_type": "execute_result"
        }
      ],
      "source": [
        "predict(308, 298, 331)"
      ]
    },
    {
      "cell_type": "code",
      "execution_count": null,
      "id": "107bcb30",
      "metadata": {
        "ExecuteTime": {
          "end_time": "2023-04-11T08:26:04.448820Z",
          "start_time": "2023-04-11T08:26:04.438328Z"
        },
        "id": "107bcb30",
        "outputId": "2f509c73-1ff0-4e90-ff3e-bc9a9b170401"
      },
      "outputs": [
        {
          "data": {
            "text/plain": [
              "2"
            ]
          },
          "execution_count": 58,
          "metadata": {},
          "output_type": "execute_result"
        }
      ],
      "source": [
        "predict(296, 290, 324)"
      ]
    },
    {
      "cell_type": "code",
      "execution_count": null,
      "id": "9e4a7e34",
      "metadata": {
        "ExecuteTime": {
          "end_time": "2023-04-11T08:26:11.924371Z",
          "start_time": "2023-04-11T08:26:11.911749Z"
        },
        "id": "9e4a7e34",
        "outputId": "f09f8b12-b061-4765-9c8d-0ede65847620"
      },
      "outputs": [
        {
          "data": {
            "text/plain": [
              "1"
            ]
          },
          "execution_count": 59,
          "metadata": {},
          "output_type": "execute_result"
        }
      ],
      "source": [
        "predict(72, 281, 393)"
      ]
    },
    {
      "cell_type": "code",
      "execution_count": null,
      "id": "570b2fd6",
      "metadata": {
        "ExecuteTime": {
          "end_time": "2023-04-11T08:26:18.596721Z",
          "start_time": "2023-04-11T08:26:18.577871Z"
        },
        "id": "570b2fd6",
        "outputId": "bec25b75-e826-418e-ecf1-9845b07b62ed"
      },
      "outputs": [
        {
          "data": {
            "text/plain": [
              "1"
            ]
          },
          "execution_count": 60,
          "metadata": {},
          "output_type": "execute_result"
        }
      ],
      "source": [
        "predict(61, 275, 373)"
      ]
    }
  ],
  "metadata": {
    "kernelspec": {
      "display_name": "Python 3 (ipykernel)",
      "language": "python",
      "name": "python3"
    },
    "language_info": {
      "codemirror_mode": {
        "name": "ipython",
        "version": 3
      },
      "file_extension": ".py",
      "mimetype": "text/x-python",
      "name": "python",
      "nbconvert_exporter": "python",
      "pygments_lexer": "ipython3",
      "version": "3.9.16"
    },
    "colab": {
      "provenance": []
    }
  },
  "nbformat": 4,
  "nbformat_minor": 5
}